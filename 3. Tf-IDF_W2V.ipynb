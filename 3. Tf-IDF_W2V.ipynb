{
 "cells": [
  {
   "cell_type": "markdown",
   "metadata": {},
   "source": [
    "<h1 style=\"text-align:center;font-size:30px;\" > Quora Question Pair Similarity Continued </h1>"
   ]
  },
  {
   "cell_type": "markdown",
   "metadata": {},
   "source": [
    "### Notebook - 3"
   ]
  },
  {
   "cell_type": "markdown",
   "metadata": {},
   "source": [
    "## Text Featurization using Tf-IDF and Glove"
   ]
  },
  {
   "cell_type": "code",
   "execution_count": 1,
   "metadata": {},
   "outputs": [],
   "source": [
    "# first things first loadinf some basic packages\n",
    "import numpy as np\n",
    "import pandas as pd\n",
    "from tqdm import tqdm_notebook as tqdm \n",
    "# Libraries for text featurization\n",
    "from sklearn.feature_extraction.text import TfidfVectorizer\n",
    "import spacy\n",
    "import en_core_web_lg\n",
    "import warnings\n",
    "warnings.filterwarnings(\"ignore\")"
   ]
  },
  {
   "cell_type": "code",
   "execution_count": 2,
   "metadata": {},
   "outputs": [],
   "source": [
    "# Loading dataset\n",
    "data = pd.read_csv(\"2_advance_feature_preprocessing_extraction.csv\")\n",
    "data = data.fillna(\" \")"
   ]
  },
  {
   "cell_type": "code",
   "execution_count": 3,
   "metadata": {},
   "outputs": [],
   "source": [
    "# getting cleaned questions into sepearte numpy array\n",
    "\n",
    "question_1 = data.question1\n",
    "question_2 = data.question2"
   ]
  },
  {
   "cell_type": "code",
   "execution_count": null,
   "metadata": {},
   "outputs": [],
   "source": []
  },
  {
   "cell_type": "markdown",
   "metadata": {},
   "source": [
    "## Text Featurization using Tf-IDF "
   ]
  },
  {
   "cell_type": "code",
   "execution_count": 5,
   "metadata": {},
   "outputs": [],
   "source": [
    "# getting all question into single list\n",
    "all_questions = np.dstack([question_1, question_2]).flatten()\n",
    "\n",
    "# Instantiating Tf-IDF Vectorizer\n",
    "tfidf = TfidfVectorizer(ngram_range=(1,1),min_df=10)\n",
    "\n",
    "tf_idf_bow = tfidf.fit_transform(all_questions)\n",
    "\n",
    "# zipping together each word and its tf_idf value\n",
    "tf_idf = dict(zip(tfidf.get_feature_names(), tfidf.idf_))"
   ]
  },
  {
   "cell_type": "markdown",
   "metadata": {},
   "source": [
    "## Text Featurization using Tf-IDF_Glove"
   ]
  },
  {
   "cell_type": "code",
   "execution_count": 6,
   "metadata": {},
   "outputs": [],
   "source": [
    "# loading spacy model\n",
    "nlp = en_core_web_lg.load()"
   ]
  },
  {
   "cell_type": "code",
   "execution_count": 9,
   "metadata": {},
   "outputs": [],
   "source": [
    "\n",
    "def glove_vect(question):\n",
    "    \n",
    "    sentence_vectors =[]\n",
    "    \"\"\" LOOP for each question\"\"\"\n",
    "    for sentence in tqdm(question):\n",
    "        doc = nlp(sentence)\n",
    "        sent_avg_vec = np.zeros(len(doc[0].vector))\n",
    "        weight_sum = 0\n",
    "        \n",
    "        \"\"\" LOOP for each word in question\"\"\"\n",
    "        for token in doc:\n",
    "            if token.has_vector and str(token) in tf_idf:\n",
    "                glove_vec = token.vector\n",
    "                tfidf = sentence.count(str(token))/len(sentence)*tf_idf.get(str(token))\n",
    "                vector = glove_vec*tfidf\n",
    "                sent_avg_vec+= vector \n",
    "                weight_sum += tfidf\n",
    "        \n",
    "        if weight_sum != 0:\n",
    "            sent_avg_vec /= weight_sum\n",
    "            \n",
    "        sentence_vectors.append(sent_avg_vec)\n",
    "    \n",
    "    return sentence_vectors\n",
    "                \n",
    "    "
   ]
  },
  {
   "cell_type": "code",
   "execution_count": 10,
   "metadata": {},
   "outputs": [
    {
     "data": {
      "application/vnd.jupyter.widget-view+json": {
       "model_id": "0d740c1c4b1d461d83855620289d3d80",
       "version_major": 2,
       "version_minor": 0
      },
      "text/plain": [
       "HBox(children=(IntProgress(value=0, max=404290), HTML(value='')))"
      ]
     },
     "metadata": {},
     "output_type": "display_data"
    },
    {
     "name": "stdout",
     "output_type": "stream",
     "text": [
      "\n"
     ]
    }
   ],
   "source": [
    "question_1_vector = glove_vect(question_1)"
   ]
  },
  {
   "cell_type": "code",
   "execution_count": 11,
   "metadata": {},
   "outputs": [
    {
     "data": {
      "application/vnd.jupyter.widget-view+json": {
       "model_id": "e0ec7580a27e41ecb5d7cea012ddb84a",
       "version_major": 2,
       "version_minor": 0
      },
      "text/plain": [
       "HBox(children=(IntProgress(value=0, max=404290), HTML(value='')))"
      ]
     },
     "metadata": {},
     "output_type": "display_data"
    },
    {
     "name": "stdout",
     "output_type": "stream",
     "text": [
      "\n"
     ]
    }
   ],
   "source": [
    "question_2_vector = glove_vect(question_2)"
   ]
  },
  {
   "cell_type": "code",
   "execution_count": null,
   "metadata": {},
   "outputs": [],
   "source": []
  },
  {
   "cell_type": "code",
   "execution_count": 18,
   "metadata": {},
   "outputs": [],
   "source": [
    "# Converting crated features from list to DataFrame\n",
    "index = [\"X_\"+str(x) for x in range(1,301)]\n",
    "q1_vector = pd.DataFrame(question_1_vector, columns = index)\n",
    "\n",
    "index = [\"Y_\"+str(x) for x in range(1,301)]\n",
    "q2_vector = pd.DataFrame(question_2_vector, columns = index)"
   ]
  },
  {
   "cell_type": "code",
   "execution_count": 19,
   "metadata": {},
   "outputs": [],
   "source": [
    "# Merging two dataframes\n",
    "question_vectors = pd.concat([q1_vector, q2_vector], axis=1)"
   ]
  },
  {
   "cell_type": "code",
   "execution_count": 20,
   "metadata": {},
   "outputs": [
    {
     "data": {
      "text/plain": [
       "(404290, 600)"
      ]
     },
     "execution_count": 20,
     "metadata": {},
     "output_type": "execute_result"
    }
   ],
   "source": [
    "question_vectors.shape"
   ]
  },
  {
   "cell_type": "code",
   "execution_count": 21,
   "metadata": {},
   "outputs": [],
   "source": [
    "# Saving created features of text\n",
    "\n",
    "question_vectors.to_csv(\"Glove_Vectors.csv\", index=False)"
   ]
  },
  {
   "cell_type": "code",
   "execution_count": 297,
   "metadata": {},
   "outputs": [],
   "source": [
    "import en_core_web_lg\n",
    "# import en_vectors_web_lg\n",
    "n = en_core_web_lg.load()"
   ]
  },
  {
   "cell_type": "code",
   "execution_count": 22,
   "metadata": {},
   "outputs": [],
   "source": [
    "# Combining all the features into single dataframe\n",
    "final_features = pd.concat([data, question_vectors], axis=1)"
   ]
  },
  {
   "cell_type": "code",
   "execution_count": 25,
   "metadata": {},
   "outputs": [],
   "source": [
    "# Saving Final_features\n",
    "final_features.to_csv(\"final_features.csv\", index=False)"
   ]
  },
  {
   "cell_type": "code",
   "execution_count": null,
   "metadata": {},
   "outputs": [],
   "source": []
  },
  {
   "cell_type": "code",
   "execution_count": null,
   "metadata": {},
   "outputs": [],
   "source": []
  }
 ],
 "metadata": {
  "kernelspec": {
   "display_name": "Python 3",
   "language": "python",
   "name": "python3"
  },
  "language_info": {
   "codemirror_mode": {
    "name": "ipython",
    "version": 3
   },
   "file_extension": ".py",
   "mimetype": "text/x-python",
   "name": "python",
   "nbconvert_exporter": "python",
   "pygments_lexer": "ipython3",
   "version": "3.7.3"
  }
 },
 "nbformat": 4,
 "nbformat_minor": 2
}
