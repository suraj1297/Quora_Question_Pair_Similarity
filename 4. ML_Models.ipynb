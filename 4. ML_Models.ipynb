{
 "cells": [
  {
   "cell_type": "markdown",
   "metadata": {},
   "source": [
    "<h1 style=\"text-align:center;font-size:30px;\" > Quora Question Pair Similarity Continued </h1>"
   ]
  },
  {
   "cell_type": "markdown",
   "metadata": {},
   "source": [
    "### Notebook - 4"
   ]
  },
  {
   "cell_type": "markdown",
   "metadata": {},
   "source": [
    "## Machine Learning Models"
   ]
  },
  {
   "cell_type": "code",
   "execution_count": 442,
   "metadata": {},
   "outputs": [],
   "source": [
    "# First Things First\n",
    "import numpy as np\n",
    "import pandas as pd\n",
    "import matplotlib.pyplot as plt\n",
    "import seaborn as sns\n",
    "import warnings\n",
    "warnings.filterwarnings(\"ignore\")\n",
    "from tqdm import tqdm_notebook as tqdm\n",
    "\n",
    "# For models\n",
    "from sklearn.model_selection import train_test_split\n",
    "from sklearn.linear_model import LogisticRegression , SGDClassifier\n",
    "from sklearn.svm import SVC\n",
    "import xgboost as xgb\n",
    "from sklearn.calibration import CalibratedClassifierCV\n",
    "\n",
    "# for validation\n",
    "from sklearn.model_selection import GridSearchCV\n",
    "\n",
    "# Performanve metrics\n",
    "from sklearn.metrics import log_loss, confusion_matrix, classification_report, make_scorer"
   ]
  },
  {
   "cell_type": "code",
   "execution_count": 443,
   "metadata": {},
   "outputs": [],
   "source": [
    "# Loading data\n",
    "data = pd.read_csv(\"final_features.csv\")"
   ]
  },
  {
   "cell_type": "code",
   "execution_count": 444,
   "metadata": {},
   "outputs": [
    {
     "data": {
      "text/plain": [
       "(404290, 632)"
      ]
     },
     "execution_count": 444,
     "metadata": {},
     "output_type": "execute_result"
    }
   ],
   "source": [
    "data.shape"
   ]
  },
  {
   "cell_type": "code",
   "execution_count": 445,
   "metadata": {},
   "outputs": [
    {
     "data": {
      "text/plain": [
       "(100000, 632)"
      ]
     },
     "execution_count": 445,
     "metadata": {},
     "output_type": "execute_result"
    }
   ],
   "source": [
    "# Selecting 100k samples\n",
    "data = data.sample(n=100000, axis=0, random_state=0, replace= False)\n",
    "data.shape"
   ]
  },
  {
   "cell_type": "code",
   "execution_count": 18,
   "metadata": {},
   "outputs": [],
   "source": [
    "# Splitting dependent and independent features\n",
    "X = data.iloc[:,6:].values\n",
    "y = data.iloc[:,5].values"
   ]
  },
  {
   "cell_type": "code",
   "execution_count": 20,
   "metadata": {},
   "outputs": [],
   "source": [
    "# Splitting data into train and test data\n",
    "X_train, X_test, y_train, y_test = train_test_split(X,y, stratify=y, test_size=0.3, random_state=0)"
   ]
  },
  {
   "cell_type": "markdown",
   "metadata": {},
   "source": [
    "## 1] Random Model (Finding worst-case log-loss)"
   ]
  },
  {
   "cell_type": "code",
   "execution_count": 265,
   "metadata": {},
   "outputs": [],
   "source": [
    "def plot_confusion_matrix(y_true, y_pred):\n",
    "    c = confusion_matrix(y_true, y_pred)\n",
    "    \n",
    "    plt.figure(figsize=(20,5))\n",
    "    # Printing confusion matrix\n",
    "    plt.subplot(1,3,1)\n",
    "    sns.heatmap(c, annot=True, fmt=\"d\")\n",
    "    plt.xlabel(\"Predicted Class\")\n",
    "    plt.ylabel(\"Original Class\")\n",
    "    plt.title(\"Confusion Matrix\")\n",
    "    \n",
    "    # Printing Precision Matrix\n",
    "    pr = c/c.sum(axis=0)\n",
    "    plt.subplot(1,3,2)\n",
    "    sns.heatmap(pr, annot=True, fmt=\".3f\")\n",
    "    plt.xlabel(\"Predicted Class\")\n",
    "    plt.ylabel(\"Original Class\")\n",
    "    plt.title(\"Precision Matrix\")\n",
    "    \n",
    "    \n",
    "    # Printing Recall Matrix\n",
    "    re = (c.T/c.sum(axis=1)).T\n",
    "    plt.subplot(1,3,3)\n",
    "    sns.heatmap(re, annot=True, fmt=\".3f\")\n",
    "    plt.xlabel(\"Predicted Class\")\n",
    "    plt.ylabel(\"Original Class\")\n",
    "    plt.title(\"Recall Matrix\")\n",
    "    plt.show()\n",
    "    \n",
    "    "
   ]
  },
  {
   "cell_type": "code",
   "execution_count": 266,
   "metadata": {},
   "outputs": [
    {
     "name": "stdout",
     "output_type": "stream",
     "text": [
      "Log_loss for random model is : 0.8834083750339343\n"
     ]
    },
    {
     "data": {
      "image/png": "[encoded data removed]",
      "text/plain": [
       "<Figure size 1440x360 with 6 Axes>"
      ]
     },
     "metadata": {
      "needs_background": "light"
     },
     "output_type": "display_data"
    }
   ],
   "source": [
    "# Creating an array for stroring probablities of each class\n",
    "y_predicted = np.zeros((len(y_test),2))\n",
    "\n",
    "# loop for creating probalities\n",
    "for i in range(len(y_test)):\n",
    "    random_probs = np.random.rand(1,2)\n",
    "    y_predicted[i] = (random_probs/np.sum(random_probs))[0]\n",
    "print(\"Log_loss for random model is :\", log_loss(y_test, y_predicted))\n",
    "\n",
    "y_predicted = np.argmax(y_predicted, axis=1)\n",
    "# Printing confusion Matrix\n",
    "plot_confusion_matrix(y_test, y_predicted)"
   ]
  },
  {
   "cell_type": "markdown",
   "metadata": {},
   "source": [
    "Observation -"
   ]
  },
  {
   "cell_type": "markdown",
   "metadata": {},
   "source": [
    "The log_loss for random model is 0.88. It tells us that in worst case scenario or the worst value for this classification\n",
    "will be 0.88.\n",
    "\n",
    "Hence all the model which will be trained should give less value than this"
   ]
  },
  {
   "cell_type": "markdown",
   "metadata": {},
   "source": [
    "## 2] Logistic Regression with hyperparameter tuning ¶"
   ]
  },
  {
   "cell_type": "code",
   "execution_count": 301,
   "metadata": {
    "scrolled": false
   },
   "outputs": [
    {
     "data": {
      "application/vnd.jupyter.widget-view+json": {
       "model_id": "c589aea9fdab4c40841b1975a37a9a23",
       "version_major": 2,
       "version_minor": 0
      },
      "text/plain": [
       "HBox(children=(IntProgress(value=0, max=8), HTML(value='')))"
      ]
     },
     "metadata": {},
     "output_type": "display_data"
    },
    {
     "name": "stdout",
     "output_type": "stream",
     "text": [
      "Log_loss for alpha:1e-05 is 0.43441997100737595\n",
      "Log_loss for alpha:0.0001 is 0.4375239933057317\n",
      "Log_loss for alpha:0.001 is 0.4356215161547032\n",
      "Log_loss for alpha:0.01 is 0.4309460526159217\n",
      "Log_loss for alpha:0.1 is 0.43711284710105136\n",
      "Log_loss for alpha:1 is 0.4720539334908995\n",
      "Log_loss for alpha:10 is 0.528900115747786\n",
      "Log_loss for alpha:100 is 0.5806382779967693\n",
      "\n"
     ]
    },
    {
     "data": {
      "image/png": "[encoded data removed]",
      "text/plain": [
       "<Figure size 432x288 with 1 Axes>"
      ]
     },
     "metadata": {
      "needs_background": "light"
     },
     "output_type": "display_data"
    },
    {
     "name": "stdout",
     "output_type": "stream",
     "text": [
      "The best alpha is 0.01 having log_loss 0.4309460526159217\n",
      "Log_loss on Test data :  0.4309460526159217\n",
      "Log_loss on Train data:  0.42948559536901737\n"
     ]
    },
    {
     "data": {
      "image/png": "[encoded data removed]",
      "text/plain": [
       "<Figure size 1440x360 with 6 Axes>"
      ]
     },
     "metadata": {
      "needs_background": "light"
     },
     "output_type": "display_data"
    }
   ],
   "source": [
    "# hyperparameter values\n",
    "alpha = [10 ** x for x in range(-5,3)]\n",
    "\n",
    "log_error = []\n",
    "\n",
    "for i in tqdm(alpha):\n",
    "    \n",
    "    \n",
    "    # Intantiating SGDClassifier Model\n",
    "    clf = SGDClassifier(loss=\"log\", penalty=\"l2\", alpha=i, random_state=0)\n",
    "    clf.fit(X_train,y_train)\n",
    "\n",
    "    # CalibrationModel for calibarting probablities\n",
    "    calb_model = CalibratedClassifierCV(clf, method=\"sigmoid\")\n",
    "    calb_model.fit(X_train,y_train)\n",
    "\n",
    "    #predecting on test data\n",
    "    pred = calb_model.predict_proba(X_test)\n",
    "    # Storing vlog_loss in log_error\n",
    "    log_error.append(log_loss(y_test, pred, labels=clf.classes_))\n",
    "    print(\"Log_loss for alpha:{} is {}\".format(i, (log_loss(y_test, pred, labels=clf.classes_))))\n",
    "\n",
    "    \n",
    "# Getting best alpha\n",
    "best_alpha = alpha[np.argmin(log_error)]\n",
    "\n",
    "# Plotting alpha vs log_loss\n",
    "fig,ax = plt.subplots()\n",
    "ax.plot(alpha, log_error)\n",
    "plt.xlabel(\"Alpha\")\n",
    "plt.ylabel(\"Log_Error\")\n",
    "plt.title(\"Log_Error plot\")\n",
    "plt.show()\n",
    "\n",
    "\n",
    "print(\"The best alpha is {} having log_loss {}\".format(best_alpha,np.min(log_error)))\n",
    "# Instantiating SGDClassifier model using best alpha\n",
    "sgd = SGDClassifier(alpha=best_alpha, penalty=\"l2\", loss=\"log\", random_state=0)\n",
    "sgd.fit(X_train, y_train)\n",
    "calb_clf = CalibratedClassifierCV(sgd, method=\"sigmoid\")\n",
    "calb_clf.fit(X_train, y_train)\n",
    "\n",
    "# predciting on test data\n",
    "y_pred = calb_clf.predict_proba(X_test)\n",
    "# predicting on train data\n",
    "y_pred_train = calb_clf.predict_proba(X_train)  \n",
    "\n",
    "print(\"Log_loss on Test data : \",log_loss(y_test,y_pred))\n",
    "print(\"Log_loss on Train data: \", log_loss(y_train,y_pred_train))\n",
    "          \n",
    "y_pred = np.argmin(y_pred, axis =1)\n",
    "plot_confusion_matrix(y_test, y_pred)\n"
   ]
  },
  {
   "cell_type": "markdown",
   "metadata": {},
   "source": [
    "<b>Observations on Logistic model</b> -\n",
    "\n",
    "1] Main moto to keep log-loss less than 0.88 which is achieved.\n",
    "\n",
    "2] Second thing which we can say is the log loss of train n test is same which means the model is not overfitting.\n",
    "\n",
    "3] Third concerning point is the precision and recall bot are very low for both the classes."
   ]
  },
  {
   "cell_type": "markdown",
   "metadata": {},
   "source": [
    "## 2] Linear SVM with hyperparameter tuning"
   ]
  },
  {
   "cell_type": "code",
   "execution_count": 302,
   "metadata": {},
   "outputs": [
    {
     "data": {
      "application/vnd.jupyter.widget-view+json": {
       "model_id": "2ec2627eedd8498e89dd978c7f87a509",
       "version_major": 2,
       "version_minor": 0
      },
      "text/plain": [
       "HBox(children=(IntProgress(value=0, max=7), HTML(value='')))"
      ]
     },
     "metadata": {},
     "output_type": "display_data"
    },
    {
     "name": "stdout",
     "output_type": "stream",
     "text": [
      "Log_loss for alpha 1e-05 is 0.4533665611428425\n",
      "Log_loss for alpha 0.0001 is 0.4787246470812635\n",
      "Log_loss for alpha 0.001 is 0.48633328793003616\n",
      "Log_loss for alpha 0.01 is 0.4922057390008661\n",
      "Log_loss for alpha 0.1 is 0.4791074866750781\n",
      "Log_loss for alpha 1 is 0.5690683079574292\n",
      "Log_loss for alpha 10 is 0.6462282625708963\n",
      "\n"
     ]
    },
    {
     "data": {
      "image/png": "[encoded data removed]",
      "text/plain": [
       "<Figure size 432x288 with 1 Axes>"
      ]
     },
     "metadata": {
      "needs_background": "light"
     },
     "output_type": "display_data"
    },
    {
     "name": "stdout",
     "output_type": "stream",
     "text": [
      "The best alpha is 1e-05 having log_loss 0.4533665611428425\n",
      "Log loss on Test Data:  0.4533665611428425\n",
      "Log loss on Train Data:  0.44922162923231956\n"
     ]
    },
    {
     "data": {
      "image/png": "[encoded data removed]",
      "text/plain": [
       "<Figure size 1440x360 with 6 Axes>"
      ]
     },
     "metadata": {
      "needs_background": "light"
     },
     "output_type": "display_data"
    }
   ],
   "source": [
    "alpha = [10 ** x for x in range(-5,2)]\n",
    "\n",
    "log_error = []\n",
    "\n",
    "for i in tqdm(alpha):\n",
    "    \n",
    "    sgd = SGDClassifier(alpha=i,loss=\"hinge\", penalty=\"l1\", random_state=0)\n",
    "    sgd.fit(X_train, y_train)\n",
    "    clf = CalibratedClassifierCV(sgd, method=\"sigmoid\")\n",
    "    clf.fit(X_train, y_train)\n",
    "    \n",
    "    #predicting on test dat\n",
    "    y_pred = clf.predict_proba(X_test)\n",
    "    log_error.append(log_loss(y_test, y_pred))\n",
    "    \n",
    "    print(\"Log_loss for alpha {} is {}\".format(i, log_loss(y_test, y_pred)))\n",
    "\n",
    "# Getting best alpha\n",
    "best_alpha = alpha[np.argmin(log_error)]\n",
    "\n",
    "# plotting alpha vs log_erroe\n",
    "plt.plot(alpha , log_error)\n",
    "plt.xlabel(\"alpha\")\n",
    "plt.ylabel(\"Log_loss\")\n",
    "plt.title(\"Logg_error plot\")\n",
    "plt.show()\n",
    "\n",
    "print(\"The best alpha is {} having log_loss {}\".format(best_alpha, np.min(log_error)))\n",
    "\n",
    "# Instantining the Classifier with best alpha\n",
    "sgd = SGDClassifier(alpha= best_alpha, loss=\"hinge\", penalty=\"l1\", random_state=0)\n",
    "sgd.fit(X_train, y_train)\n",
    "clf = CalibratedClassifierCV(sgd, method=\"sigmoid\")\n",
    "clf.fit(X_train, y_train)\n",
    "\n",
    "# predicting on test data\n",
    "y_pred = clf.predict_proba(X_test)\n",
    "\n",
    "# predicting on train data\n",
    "y_pred_train = clf.predict_proba(X_train)\n",
    "\n",
    "# Log loss on train and test data\n",
    "print(\"Log loss on Test Data: \",log_loss(y_test,y_pred))\n",
    "print(\"Log loss on Train Data: \",log_loss(y_train,y_pred_train))\n",
    "\n",
    "# Printing confusion matrix\n",
    "y_pred = y_pred.argmax(axis=1)\n",
    "plot_confusion_matrix(y_test, y_pred)\n",
    "      \n",
    "      "
   ]
  },
  {
   "cell_type": "markdown",
   "metadata": {},
   "source": [
    "<b>Observatios on SVM model</b> -\n",
    "\n",
    "1] Main moto to keep log-loss less than 0.88 which is achieved.\n",
    "\n",
    "2] Second thing which we can say is the log loss of train n test is same which means the model is not overfitting.<br>\n",
    "   &nbsp; &nbsp; &nbsp;Also the metrics are same as logistics model.\n",
    "\n",
    "3] The most crucial interpratation can be made by precision and recall matrix. They showed drastic improvement.\n",
    "\n",
    "4} But the major concern still is the recall for postive class(1), its still low\n"
   ]
  },
  {
   "cell_type": "markdown",
   "metadata": {},
   "source": [
    "## 2] XGBoost with hyperparameter tuning"
   ]
  },
  {
   "cell_type": "code",
   "execution_count": 346,
   "metadata": {},
   "outputs": [
    {
     "data": {
      "text/plain": [
       "GridSearchCV(cv='warn', error_score=make_scorer(log_loss),\n",
       "       estimator=XGBClassifier(base_score=0.5, booster='gbtree', colsample_bylevel=1,\n",
       "       colsample_bynode=1, colsample_bytree=1, gamma=0, learning_rate=0.1,\n",
       "       max_delta_step=0, max_depth=3, min_child_weight=1, missing=None,\n",
       "       n_estimators=100, n_jobs=1, nthread=None,\n",
       "       objective='binary:logistic', random_state=0, reg_alpha=0,\n",
       "       reg_lambda=1, scale_pos_weight=1, seed=None, silent=None,\n",
       "       subsample=1, verbosity=1),\n",
       "       fit_params=None, iid='warn', n_jobs=None,\n",
       "       param_grid={'max_depth': [2, 3, 4, 5, 7], 'learning_rate': [0.01, 0.1, 1, 2, 3, 4]},\n",
       "       pre_dispatch='2*n_jobs', refit=True, return_train_score=True,\n",
       "       scoring=None, verbose=0)"
      ]
     },
     "execution_count": 346,
     "metadata": {},
     "output_type": "execute_result"
    }
   ],
   "source": [
    "#read in data\n",
    "dtrain = xgb.DMatrix(X_train, label=y_train)\n",
    "dtest = xgb.DMatrix(X_test, label=y_test)\n",
    "\n",
    "## Hyper Tuning xgboost parameters\n",
    "\n",
    "param_grid = {\n",
    "    \"max_depth\":[2,3,4,5,7],\n",
    "    \"learning_rate\":[0.01,0.1,1,2,3,4]\n",
    "}\n",
    "\n",
    "bst = xgb.train(dtrain,objective=\"binary:logistic\")\n",
    "clf = GridSearchCV(bst, param_grid=param_grid, return_train_score=True, error_score=make_scorer(log_loss))\n",
    "clf.fit(X_train,y_train)\n"
   ]
  },
  {
   "cell_type": "code",
   "execution_count": 359,
   "metadata": {},
   "outputs": [],
   "source": [
    "# Storing values\n",
    "values = [clf.cv_results_.get(\"param_learning_rate\"),clf.cv_results_.get(\"param_max_depth\"),clf.cv_results_.get(\"mean_test_score\"),clf.cv_results_.get(\"mean_train_score\")]"
   ]
  },
  {
   "cell_type": "code",
   "execution_count": 360,
   "metadata": {},
   "outputs": [],
   "source": [
    "# converting the results into dataframe\n",
    "results = pd.DataFrame(values, index = [\"param_learning_rate\",\"param_max_depth\",\"mean_test_score\",\"mean_train_score\"]).transpose()"
   ]
  },
  {
   "cell_type": "code",
   "execution_count": 361,
   "metadata": {},
   "outputs": [
    {
     "data": {
      "text/html": [
       "<div>\n",
       "<style scoped>\n",
       "    .dataframe tbody tr th:only-of-type {\n",
       "        vertical-align: middle;\n",
       "    }\n",
       "\n",
       "    .dataframe tbody tr th {\n",
       "        vertical-align: top;\n",
       "    }\n",
       "\n",
       "    .dataframe thead th {\n",
       "        text-align: right;\n",
       "    }\n",
       "</style>\n",
       "<table border=\"1\" class=\"dataframe\">\n",
       "  <thead>\n",
       "    <tr style=\"text-align: right;\">\n",
       "      <th></th>\n",
       "      <th>param_learning_rate</th>\n",
       "      <th>param_max_depth</th>\n",
       "      <th>mean_test_score</th>\n",
       "      <th>mean_train_score</th>\n",
       "    </tr>\n",
       "  </thead>\n",
       "  <tbody>\n",
       "    <tr>\n",
       "      <th>0</th>\n",
       "      <td>0.01</td>\n",
       "      <td>2.0</td>\n",
       "      <td>0.755286</td>\n",
       "      <td>0.755636</td>\n",
       "    </tr>\n",
       "    <tr>\n",
       "      <th>1</th>\n",
       "      <td>0.01</td>\n",
       "      <td>3.0</td>\n",
       "      <td>0.796114</td>\n",
       "      <td>0.796557</td>\n",
       "    </tr>\n",
       "    <tr>\n",
       "      <th>2</th>\n",
       "      <td>0.01</td>\n",
       "      <td>4.0</td>\n",
       "      <td>0.806300</td>\n",
       "      <td>0.808564</td>\n",
       "    </tr>\n",
       "    <tr>\n",
       "      <th>3</th>\n",
       "      <td>0.01</td>\n",
       "      <td>5.0</td>\n",
       "      <td>0.811943</td>\n",
       "      <td>0.815000</td>\n",
       "    </tr>\n",
       "    <tr>\n",
       "      <th>4</th>\n",
       "      <td>0.01</td>\n",
       "      <td>7.0</td>\n",
       "      <td>0.814743</td>\n",
       "      <td>0.827629</td>\n",
       "    </tr>\n",
       "    <tr>\n",
       "      <th>5</th>\n",
       "      <td>0.10</td>\n",
       "      <td>2.0</td>\n",
       "      <td>0.810200</td>\n",
       "      <td>0.813657</td>\n",
       "    </tr>\n",
       "    <tr>\n",
       "      <th>6</th>\n",
       "      <td>0.10</td>\n",
       "      <td>3.0</td>\n",
       "      <td>0.819629</td>\n",
       "      <td>0.825900</td>\n",
       "    </tr>\n",
       "    <tr>\n",
       "      <th>7</th>\n",
       "      <td>0.10</td>\n",
       "      <td>4.0</td>\n",
       "      <td>0.824300</td>\n",
       "      <td>0.837000</td>\n",
       "    </tr>\n",
       "    <tr>\n",
       "      <th>8</th>\n",
       "      <td>0.10</td>\n",
       "      <td>5.0</td>\n",
       "      <td>0.827843</td>\n",
       "      <td>0.852979</td>\n",
       "    </tr>\n",
       "    <tr>\n",
       "      <th>9</th>\n",
       "      <td>0.10</td>\n",
       "      <td>7.0</td>\n",
       "      <td>0.830229</td>\n",
       "      <td>0.904257</td>\n",
       "    </tr>\n",
       "    <tr>\n",
       "      <th>10</th>\n",
       "      <td>1.00</td>\n",
       "      <td>2.0</td>\n",
       "      <td>0.816971</td>\n",
       "      <td>0.845671</td>\n",
       "    </tr>\n",
       "    <tr>\n",
       "      <th>11</th>\n",
       "      <td>1.00</td>\n",
       "      <td>3.0</td>\n",
       "      <td>0.809943</td>\n",
       "      <td>0.879286</td>\n",
       "    </tr>\n",
       "    <tr>\n",
       "      <th>12</th>\n",
       "      <td>1.00</td>\n",
       "      <td>4.0</td>\n",
       "      <td>0.803143</td>\n",
       "      <td>0.923500</td>\n",
       "    </tr>\n",
       "    <tr>\n",
       "      <th>13</th>\n",
       "      <td>1.00</td>\n",
       "      <td>5.0</td>\n",
       "      <td>0.799271</td>\n",
       "      <td>0.975429</td>\n",
       "    </tr>\n",
       "    <tr>\n",
       "      <th>14</th>\n",
       "      <td>1.00</td>\n",
       "      <td>7.0</td>\n",
       "      <td>0.806414</td>\n",
       "      <td>1.000000</td>\n",
       "    </tr>\n",
       "    <tr>\n",
       "      <th>15</th>\n",
       "      <td>2.00</td>\n",
       "      <td>2.0</td>\n",
       "      <td>0.666529</td>\n",
       "      <td>0.665907</td>\n",
       "    </tr>\n",
       "    <tr>\n",
       "      <th>16</th>\n",
       "      <td>2.00</td>\n",
       "      <td>3.0</td>\n",
       "      <td>0.592771</td>\n",
       "      <td>0.592992</td>\n",
       "    </tr>\n",
       "    <tr>\n",
       "      <th>17</th>\n",
       "      <td>2.00</td>\n",
       "      <td>4.0</td>\n",
       "      <td>0.570643</td>\n",
       "      <td>0.569856</td>\n",
       "    </tr>\n",
       "    <tr>\n",
       "      <th>18</th>\n",
       "      <td>2.00</td>\n",
       "      <td>5.0</td>\n",
       "      <td>0.717486</td>\n",
       "      <td>0.719936</td>\n",
       "    </tr>\n",
       "    <tr>\n",
       "      <th>19</th>\n",
       "      <td>2.00</td>\n",
       "      <td>7.0</td>\n",
       "      <td>0.698843</td>\n",
       "      <td>0.702957</td>\n",
       "    </tr>\n",
       "    <tr>\n",
       "      <th>20</th>\n",
       "      <td>3.00</td>\n",
       "      <td>2.0</td>\n",
       "      <td>0.471700</td>\n",
       "      <td>0.471064</td>\n",
       "    </tr>\n",
       "    <tr>\n",
       "      <th>21</th>\n",
       "      <td>3.00</td>\n",
       "      <td>3.0</td>\n",
       "      <td>0.543414</td>\n",
       "      <td>0.543399</td>\n",
       "    </tr>\n",
       "    <tr>\n",
       "      <th>22</th>\n",
       "      <td>3.00</td>\n",
       "      <td>4.0</td>\n",
       "      <td>0.601029</td>\n",
       "      <td>0.602293</td>\n",
       "    </tr>\n",
       "    <tr>\n",
       "      <th>23</th>\n",
       "      <td>3.00</td>\n",
       "      <td>5.0</td>\n",
       "      <td>0.639171</td>\n",
       "      <td>0.640143</td>\n",
       "    </tr>\n",
       "    <tr>\n",
       "      <th>24</th>\n",
       "      <td>3.00</td>\n",
       "      <td>7.0</td>\n",
       "      <td>0.670471</td>\n",
       "      <td>0.669243</td>\n",
       "    </tr>\n",
       "    <tr>\n",
       "      <th>25</th>\n",
       "      <td>4.00</td>\n",
       "      <td>2.0</td>\n",
       "      <td>0.594886</td>\n",
       "      <td>0.593815</td>\n",
       "    </tr>\n",
       "    <tr>\n",
       "      <th>26</th>\n",
       "      <td>4.00</td>\n",
       "      <td>3.0</td>\n",
       "      <td>0.550214</td>\n",
       "      <td>0.548115</td>\n",
       "    </tr>\n",
       "    <tr>\n",
       "      <th>27</th>\n",
       "      <td>4.00</td>\n",
       "      <td>4.0</td>\n",
       "      <td>0.389900</td>\n",
       "      <td>0.391736</td>\n",
       "    </tr>\n",
       "    <tr>\n",
       "      <th>28</th>\n",
       "      <td>4.00</td>\n",
       "      <td>5.0</td>\n",
       "      <td>0.622200</td>\n",
       "      <td>0.620786</td>\n",
       "    </tr>\n",
       "    <tr>\n",
       "      <th>29</th>\n",
       "      <td>4.00</td>\n",
       "      <td>7.0</td>\n",
       "      <td>0.587243</td>\n",
       "      <td>0.589836</td>\n",
       "    </tr>\n",
       "  </tbody>\n",
       "</table>\n",
       "</div>"
      ],
      "text/plain": [
       "    param_learning_rate  param_max_depth  mean_test_score  mean_train_score\n",
       "0                  0.01              2.0         0.755286          0.755636\n",
       "1                  0.01              3.0         0.796114          0.796557\n",
       "2                  0.01              4.0         0.806300          0.808564\n",
       "3                  0.01              5.0         0.811943          0.815000\n",
       "4                  0.01              7.0         0.814743          0.827629\n",
       "5                  0.10              2.0         0.810200          0.813657\n",
       "6                  0.10              3.0         0.819629          0.825900\n",
       "7                  0.10              4.0         0.824300          0.837000\n",
       "8                  0.10              5.0         0.827843          0.852979\n",
       "9                  0.10              7.0         0.830229          0.904257\n",
       "10                 1.00              2.0         0.816971          0.845671\n",
       "11                 1.00              3.0         0.809943          0.879286\n",
       "12                 1.00              4.0         0.803143          0.923500\n",
       "13                 1.00              5.0         0.799271          0.975429\n",
       "14                 1.00              7.0         0.806414          1.000000\n",
       "15                 2.00              2.0         0.666529          0.665907\n",
       "16                 2.00              3.0         0.592771          0.592992\n",
       "17                 2.00              4.0         0.570643          0.569856\n",
       "18                 2.00              5.0         0.717486          0.719936\n",
       "19                 2.00              7.0         0.698843          0.702957\n",
       "20                 3.00              2.0         0.471700          0.471064\n",
       "21                 3.00              3.0         0.543414          0.543399\n",
       "22                 3.00              4.0         0.601029          0.602293\n",
       "23                 3.00              5.0         0.639171          0.640143\n",
       "24                 3.00              7.0         0.670471          0.669243\n",
       "25                 4.00              2.0         0.594886          0.593815\n",
       "26                 4.00              3.0         0.550214          0.548115\n",
       "27                 4.00              4.0         0.389900          0.391736\n",
       "28                 4.00              5.0         0.622200          0.620786\n",
       "29                 4.00              7.0         0.587243          0.589836"
      ]
     },
     "execution_count": 361,
     "metadata": {},
     "output_type": "execute_result"
    }
   ],
   "source": [
    "results"
   ]
  },
  {
   "cell_type": "code",
   "execution_count": 440,
   "metadata": {},
   "outputs": [
    {
     "data": {
      "text/html": [
       "<div>\n",
       "<style scoped>\n",
       "    .dataframe tbody tr th:only-of-type {\n",
       "        vertical-align: middle;\n",
       "    }\n",
       "\n",
       "    .dataframe tbody tr th {\n",
       "        vertical-align: top;\n",
       "    }\n",
       "\n",
       "    .dataframe thead th {\n",
       "        text-align: right;\n",
       "    }\n",
       "</style>\n",
       "<table border=\"1\" class=\"dataframe\">\n",
       "  <thead>\n",
       "    <tr style=\"text-align: right;\">\n",
       "      <th></th>\n",
       "      <th>param_learning_rate</th>\n",
       "      <th>param_max_depth</th>\n",
       "      <th>mean_test_score</th>\n",
       "      <th>mean_train_score</th>\n",
       "    </tr>\n",
       "  </thead>\n",
       "  <tbody>\n",
       "    <tr>\n",
       "      <th>9</th>\n",
       "      <td>0.1</td>\n",
       "      <td>7.0</td>\n",
       "      <td>0.830229</td>\n",
       "      <td>0.904257</td>\n",
       "    </tr>\n",
       "  </tbody>\n",
       "</table>\n",
       "</div>"
      ],
      "text/plain": [
       "   param_learning_rate  param_max_depth  mean_test_score  mean_train_score\n",
       "9                  0.1              7.0         0.830229          0.904257"
      ]
     },
     "execution_count": 440,
     "metadata": {},
     "output_type": "execute_result"
    }
   ],
   "source": [
    "best_param = results.nlargest(1,\"mean_test_score\")\n",
    "best_param"
   ]
  },
  {
   "cell_type": "code",
   "execution_count": 438,
   "metadata": {},
   "outputs": [
    {
     "name": "stdout",
     "output_type": "stream",
     "text": [
      "Log Loss for Test data :  0.3338175299396253\n",
      "Log Loss for Train data :  0.2697173737019758\n"
     ]
    },
    {
     "data": {
      "image/png": "[encoded data removed]",
      "text/plain": [
       "<Figure size 1440x360 with 6 Axes>"
      ]
     },
     "metadata": {
      "needs_background": "light"
     },
     "output_type": "display_data"
    }
   ],
   "source": [
    "# TRaining XGMOdel with best param\n",
    "\n",
    "# Instantiating XGBOOST model\n",
    "bst = xgb.XGBClassifier(max_depth=7, learning_rate=0.1, objective=\"binary:logistic\")\n",
    "\n",
    "bst.fit(X_train, y_train)\n",
    "\n",
    "# predicting on test data\n",
    "y_pred = bst.predict_proba(X_test)\n",
    "# predicting on train data\n",
    "y_pred_train = bst.predict_proba(X_train)\n",
    "\n",
    "# LogLoss\n",
    "print(\"Log Loss for Test data : \",log_loss(y_test,y_pred))\n",
    "print(\"Log Loss for Train data : \",log_loss(y_train,y_pred_train))\n",
    "\n",
    "# Confusion matrix\n",
    "y_pred = y_pred.argmax(axis=1)\n",
    "plot_confusion_matrix(y_test,y_pred)"
   ]
  },
  {
   "cell_type": "markdown",
   "metadata": {},
   "source": [
    "<b>Observatios on XGBoost model</b> -\n",
    "\n",
    "1] XGBoost gave us the best logloss.\n",
    "\n",
    "2] Second thing which we can say is the log loss of train n test is almost same not mush of the difference  which means the model is not overfitting.<br>\n",
    "\n",
    "\n",
    "3] The most crucial interpratation can be made by precision and recall matrix. They showed drastic improvement and are the best one uptill now or from other models.\n",
    "\n",
    "\n",
    "4] Aa the log-loss is way to far from thw worst log loss hence we can say the model is also not overfitting.\n",
    "\n",
    "\n",
    "5] Hence we will choose XGBoost as are go to model fo Question Similarity use case."
   ]
  },
  {
   "cell_type": "markdown",
   "metadata": {},
   "source": [
    "<h2 style=\"color:red;\"><b> XGBoost is go to model for Quora Question Pair Similarity </b></h2>"
   ]
  },
  {
   "cell_type": "code",
   "execution_count": null,
   "metadata": {},
   "outputs": [],
   "source": []
  },
  {
   "cell_type": "code",
   "execution_count": null,
   "metadata": {},
   "outputs": [],
   "source": []
  },
  {
   "cell_type": "code",
   "execution_count": null,
   "metadata": {},
   "outputs": [],
   "source": []
  },
  {
   "cell_type": "code",
   "execution_count": null,
   "metadata": {
    "scrolled": true
   },
   "outputs": [],
   "source": [
    "# # TRaining XGMOdel with best param\n",
    "\n",
    "# #read in data\n",
    "# dtrain = xgb.DMatrix(X_train, label=y_train)\n",
    "# dtest = xgb.DMatrix(X_test, label=y_test)\n",
    "\n",
    "# params = {\"max_depth\":4 , \"eta\": 4, \"objective\":\"binary:logistic\",\n",
    "#       \"eval_metric\":\"logloss\"}\n",
    "\n",
    "# num_round = 20\n",
    "\n",
    "# #instantiating and traning model\n",
    "# bst = xgb.train(params,dtrain,num_boost_round= 50,evals=[(dtest, \"Validation\")],early_stopping_rounds=10, verbose_eval=10)\n",
    "\n",
    "# y_pred = bst.predict(dtest)"
   ]
  },
  {
   "cell_type": "code",
   "execution_count": null,
   "metadata": {},
   "outputs": [],
   "source": []
  },
  {
   "cell_type": "code",
   "execution_count": null,
   "metadata": {},
   "outputs": [],
   "source": []
  }
 ],
 "metadata": {
  "kernelspec": {
   "display_name": "Python 3",
   "language": "python",
   "name": "python3"
  },
  "language_info": {
   "codemirror_mode": {
    "name": "ipython",
    "version": 3
   },
   "file_extension": ".py",
   "mimetype": "text/x-python",
   "name": "python",
   "nbconvert_exporter": "python",
   "pygments_lexer": "ipython3",
   "version": "3.7.3"
  }
 },
 "nbformat": 4,
 "nbformat_minor": 2
}
